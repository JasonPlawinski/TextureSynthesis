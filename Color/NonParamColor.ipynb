{
 "cells": [
  {
   "cell_type": "code",
   "execution_count": 24,
   "metadata": {
    "collapsed": true
   },
   "outputs": [],
   "source": [
    "import numpy as np\n",
    "import matplotlib.pyplot as plt\n",
    "import matplotlib.image as mpimg\n",
    "import math\n",
    "from random import randint\n",
    "import scipy.stats as st\n",
    "%matplotlib inline\n",
    "%load_ext snakeviz"
   ]
  },
  {
   "cell_type": "code",
   "execution_count": 25,
   "metadata": {
    "collapsed": true
   },
   "outputs": [],
   "source": [
    "def rgb2gray(rgb):\n",
    "\n",
    "    r, g, b = rgb[:,:,0], rgb[:,:,1], rgb[:,:,2]\n",
    "    gray = 0.2989 * r + 0.5870 * g + 0.1140 * b\n",
    "\n",
    "    return gray\n",
    "\n",
    "def gkern(kernlen=21, nsig=3):\n",
    "    \"\"\"Returns a 2D Gaussian kernel array.\"\"\"\n",
    "\n",
    "    interval = (2*nsig+1.)/(kernlen)\n",
    "    x = np.linspace(-nsig-interval/2., nsig+interval/2., kernlen+1)\n",
    "    kern1d = np.diff(st.norm.cdf(x))\n",
    "    kernel_raw = np.sqrt(np.outer(kern1d, kern1d))\n",
    "    kernel = kernel_raw/kernel_raw.sum()\n",
    "    return kernel"
   ]
  },
  {
   "cell_type": "code",
   "execution_count": 26,
   "metadata": {
    "collapsed": true
   },
   "outputs": [],
   "source": [
    "def GetSeed(Image):\n",
    "    Size=Image.shape\n",
    "    cx=randint(2,Size[0]-2)\n",
    "    cy=randint(2,Size[1]-2)\n",
    "    Seed=Image[cx-1:cx+2,cy-1:cy+2,:]*.99\n",
    "    return(Seed)\n",
    "\n",
    "def Image2Fill(SizeX,SizeY,Image):\n",
    "    seed=GetSeed(Image)\n",
    "    NewImage = np.empty([SizeX,SizeY,3])\n",
    "    NewImage.fill(np.nan)\n",
    "    NewImage[SizeX/2-1:SizeX/2+2,SizeY/2-1:SizeY/2+2]=seed\n",
    "    return NewImage\n",
    "\n",
    "def ComputeDistance(CurrentPatch,RefPatch,GKernel):\n",
    "    Mask=~np.logical_and(~np.isnan(CurrentPatch),~np.isnan(RefPatch))\n",
    "    RefPatch2=np.copy(RefPatch)\n",
    "    CurrentPatch[Mask]=np.nan\n",
    "    RefPatch2[Mask]=np.nan\n",
    "    if (np.sum(~Mask*1)<6):\n",
    "#         plt.imshow(RefPatch)\n",
    "#         plt.show()\n",
    "        return 100\n",
    "    else:\n",
    "        DistR=np.nansum(np.square(CurrentPatch[:,:,0]-RefPatch[:,:,0])*GKernel)/np.sum(GKernel[~Mask[:,:,0]])*0.2989\n",
    "        DistG=np.nansum(np.square(CurrentPatch[:,:,1]-RefPatch[:,:,1])*GKernel)/np.sum(GKernel[~Mask[:,:,0]])*0.5870\n",
    "        DistB=np.nansum(np.square(CurrentPatch[:,:,2]-RefPatch[:,:,2])*GKernel)/np.sum(GKernel[~Mask[:,:,0]])*0.1140\n",
    "        return DistR+DistG+DistB\n",
    "\n",
    "def GetUnfilledNeigbors(NewImage):\n",
    "    Size=np.array(NewImage.shape)\n",
    "    Size[0]=Size[0]-2\n",
    "    Size[1]=Size[1]-2\n",
    "    Neighbors=np.zeros([Size[0]*Size[1],3],dtype=int)\n",
    "    ind=0\n",
    "    for i in range(1,Size[0]+1):\n",
    "        for j in range(1,Size[1]+1):\n",
    "            Neighbors[ind,1]=i\n",
    "            Neighbors[ind,2]=j\n",
    "            if ~np.isnan(NewImage[i,j,0]):\n",
    "                Neighbors[ind,0]=-1\n",
    "            else:\n",
    "                Patch=NewImage[i-1:i+2,j-1:j+2,0]\n",
    "                Patch[1,1]=np.nan\n",
    "                Neighbors[ind,0]=np.sum(~np.isnan(Patch))\n",
    "            ind=ind+1\n",
    "    return Neighbors\n",
    "\n",
    "def Distance(WindowSize,Image,NewImage,Sigma,Pixelx,Pixely):\n",
    "    SizeNewImage=np.array(NewImage.shape)\n",
    "    SizeImage=np.array(Image.shape)\n",
    "    GKernel=gkern(WindowSize, Sigma)\n",
    "    DistMat=np.ones_like(Image[:,:,0])*100\n",
    "    \n",
    "    RefPatch=np.empty([WindowSize,WindowSize,3])\n",
    "    RefPatch.fill(np.nan)\n",
    "    minxNew=np.max([0,Pixelx-WindowSize/2])\n",
    "    minyNew=np.max([0,Pixely-WindowSize/2])\n",
    "    maxxNew=np.min([SizeNewImage[0],Pixelx+WindowSize/2])\n",
    "    maxyNew=np.min([SizeNewImage[1],Pixely+WindowSize/2])\n",
    "\n",
    "    xmPatchRef=np.max([WindowSize/2-Pixelx,0])\n",
    "    xMPatchRef=np.min([WindowSize,SizeNewImage[0] + WindowSize/2 - Pixelx])\n",
    "    ymPatchRef=np.max([WindowSize/2-Pixely,0])\n",
    "    yMPatchRef=np.min([WindowSize,SizeNewImage[1] + WindowSize/2 - Pixely])\n",
    "    RefPatch[xmPatchRef:xMPatchRef,ymPatchRef:yMPatchRef,:]= NewImage[minxNew:maxxNew+1,minyNew:maxyNew+1,:]\n",
    "    \n",
    "    for i in range(WindowSize/2,SizeImage[0]+1-WindowSize/2):\n",
    "        for j in range(WindowSize/2,SizeImage[1]+1-WindowSize/2):\n",
    "            xmPatch=np.max([WindowSize/2-i,0])\n",
    "            xMPatch=np.min([WindowSize,SizeImage[0] + WindowSize/2 - i])\n",
    "            ymPatch=np.max([WindowSize/2-j,0])\n",
    "            yMPatch=np.min([WindowSize,SizeImage[1] + WindowSize/2 - j])\n",
    "            minx=i-WindowSize/2\n",
    "            miny=j-WindowSize/2\n",
    "            maxx=i+WindowSize/2\n",
    "            maxy=j+WindowSize/2\n",
    "            CurrentPatch=np.empty([WindowSize,WindowSize,3])\n",
    "            CurrentPatch.fill(np.nan)\n",
    "            CurrentPatch[xmPatch:xMPatch,ymPatch:yMPatch,:]=Image[minx:maxx+1,miny:maxy+1,:]\n",
    "            dist=ComputeDistance(CurrentPatch,RefPatch,GKernel)\n",
    "            DistMat[i][j]=dist\n",
    "    return DistMat\n",
    "\n",
    "\n",
    "def GrowTexture(WindowSize,SizeX,SizeY,Image):\n",
    "    Threshold=0.1\n",
    "    Sigma=WindowSize/6.4\n",
    "    MaxErrorThresh=0.3\n",
    "    \n",
    "    NewImage=Image2Fill(SizeX,SizeY,Image)\n",
    "    Neighbors=GetUnfilledNeigbors(NewImage)\n",
    "    count=0\n",
    "    while(sum((Neighbors[:,0]>0)*1)>0):\n",
    "        progress=0\n",
    "        posNei=np.argmax(Neighbors,0)[0]\n",
    "        posNei=Neighbors[posNei,:]\n",
    "        Pixelx=posNei[1]\n",
    "        Pixely=posNei[2]\n",
    "        Dist=Distance(WindowSize,Image,NewImage,Sigma,Pixelx,Pixely)\n",
    "        indicesDist=np.array(np.where(Dist<=(np.min(Dist)*(1+Threshold))))\n",
    "        randind=randint(0,len(indicesDist[0])-1)\n",
    "        if Dist[indicesDist[0,randind],indicesDist[1,randind]] < MaxErrorThresh:\n",
    "            IndiceImage=[indicesDist[0,randind],indicesDist[1,randind]]\n",
    "            NewImage[Pixelx,Pixely,:]=Image[IndiceImage[0],IndiceImage[1],:]\n",
    "            progress=1\n",
    "        if progress  == 0:\n",
    "            MaxErrorThresh=MaxErrorThresh*1.1\n",
    "        count=count+1\n",
    "        Neighbors=GetUnfilledNeigbors(NewImage)\n",
    "#         if (count%75==0):\n",
    "#             plt.imshow(NewImage,cmap='gray')\n",
    "#             plt.show()\n",
    "    return NewImage[1:-1,1:-1]"
   ]
  },
  {
   "cell_type": "code",
   "execution_count": 29,
   "metadata": {
    "scrolled": false
   },
   "outputs": [
    {
     "name": "stdout",
     "output_type": "stream",
     "text": [
      " \n",
      "*** Profile stats marshalled to file u'c:\\\\users\\\\jqxs\\\\appdata\\\\local\\\\temp\\\\tmpye_q8q'. \n"
     ]
    }
   ],
   "source": [
    "%%snakeviz\n",
    "img=np.array(mpimg.imread('../../161.gif'))[:,:,:3]/255.0\n",
    "# plt.imshow(img,cmap='gray')\n",
    "# plt.axis('off')\n",
    "# plt.show()\n",
    "b=GrowTexture(13,15,15,img)\n",
    "# plt.imshow(b)\n",
    "# plt.axis('off')\n",
    "# plt.show()"
   ]
  },
  {
   "cell_type": "code",
   "execution_count": null,
   "metadata": {
    "collapsed": true
   },
   "outputs": [],
   "source": []
  }
 ],
 "metadata": {
  "kernelspec": {
   "display_name": "Python 2",
   "language": "python",
   "name": "python2"
  },
  "language_info": {
   "codemirror_mode": {
    "name": "ipython",
    "version": 2
   },
   "file_extension": ".py",
   "mimetype": "text/x-python",
   "name": "python",
   "nbconvert_exporter": "python",
   "pygments_lexer": "ipython2",
   "version": "2.7.13"
  }
 },
 "nbformat": 4,
 "nbformat_minor": 2
}
