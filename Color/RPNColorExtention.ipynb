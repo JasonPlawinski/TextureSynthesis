{
 "cells": [
  {
   "cell_type": "code",
   "execution_count": 36,
   "metadata": {},
   "outputs": [
    {
     "name": "stdout",
     "output_type": "stream",
     "text": [
      "The snakeviz extension is already loaded. To reload it, use:\n",
      "  %reload_ext snakeviz\n"
     ]
    }
   ],
   "source": [
    "import numpy as np\n",
    "import matplotlib.pyplot as plt\n",
    "import matplotlib.image as mpimg\n",
    "import math\n",
    "from random import randint\n",
    "from scipy.ndimage.filters import laplace \n",
    "import scipy.stats as st\n",
    "from scipy.signal import correlate2d\n",
    "import collections\n",
    "%matplotlib inline\n",
    "%load_ext snakeviz"
   ]
  },
  {
   "cell_type": "code",
   "execution_count": 3,
   "metadata": {
    "collapsed": true
   },
   "outputs": [],
   "source": [
    "def rgb2gray(rgb):\n",
    "    r, g, b = rgb[:,:,0], rgb[:,:,1], rgb[:,:,2]\n",
    "    gray = 0.2989 * r + 0.5870 * g + 0.1140 * b\n",
    "    return gray\n",
    "\n",
    "def P2R(radii, angles):\n",
    "    return radii * np.exp(1j*angles)\n",
    "\n",
    "def R2P(x):\n",
    "    return np.abs(x), np.angle(x)\n",
    "\n",
    "def LaplacianInterriorDomain(Image):\n",
    "    M=len(Image)\n",
    "    N=len(Image[0])\n",
    "    u=np.copy(Image)\n",
    "    DeltaU=laplace(u)\n",
    "    v1=np.zeros([M,N])\n",
    "    v2=np.zeros([M,N])\n",
    "    for y in range(N):\n",
    "        v1[0,y]=u[M-1,y]-u[0,y]\n",
    "        v1[M-1,y]=u[0,y]-u[M-1,y]\n",
    "    for x in range(M):\n",
    "        v2[x,0]=u[x,N-1]-u[x,0]\n",
    "        v2[x,N-1]=u[x,0]-u[x,N-1]\n",
    "    v=v1+v2\n",
    "    DeltaU_V=DeltaU-v\n",
    "    return(DeltaU_V)"
   ]
  },
  {
   "cell_type": "code",
   "execution_count": 23,
   "metadata": {
    "collapsed": true
   },
   "outputs": [],
   "source": [
    "def AddNoise(Image,Noise):\n",
    "    ImageFFT=(np.fft.fft2(Image))\n",
    "    norm, phase = R2P(ImageFFT)\n",
    "    NImageFFT=P2R(norm,phase+Noise)\n",
    "    return((np.abs(np.fft.ifft2(NImageFFT))))\n",
    "\n",
    "def GenerateNoise(Image):\n",
    "    RandomPhase=np.random.rand(len(Image),len(Image[0]))*2*math.pi-np.ones([len(Image),len(Image[0])])*math.pi\n",
    "    return RandomPhase\n",
    "\n",
    "def RPN(Image):\n",
    "    Noise=GenerateNoise(Image)\n",
    "    NewImage=np.zeros(Image.shape)\n",
    "    NewImage[:,:,0]=AddNoise(Image[:,:,0],Noise)\n",
    "    NewImage[:,:,1]=AddNoise(Image[:,:,1],Noise)\n",
    "    NewImage[:,:,2]=AddNoise(Image[:,:,2],Noise)\n",
    "    return(NewImage)\n",
    "\n",
    "def PeriodicComponent(Image):\n",
    "    M=len(Image)\n",
    "    N=len(Image[0])\n",
    "    Lap=LaplacianInterriorDomain(Image)\n",
    "    LapFFT=np.fft.fft2(Lap)\n",
    "    PFFT=np.zeros([M,N],dtype=np.complex)\n",
    "    for i in range(M):\n",
    "        for j in range(N):\n",
    "            if (i==0 and j==0):\n",
    "                PFFT[i,j]=np.sum(np.ravel(Image))\n",
    "            else:\n",
    "                PFFT[i,j]=LapFFT[i,j]/(2*np.cos(2*i*math.pi/M)+2*np.cos(2*j*math.pi/N)-4)\n",
    "    P=np.fft.ifft2(PFFT)\n",
    "    return(P)\n",
    "\n",
    "def ExpandTexture(Image,S0,S1):\n",
    "    M=len(Image)\n",
    "    N=len(Image[0])\n",
    "    mR=np.mean(Image[:,:,0].ravel())\n",
    "    mG=np.mean(Image[:,:,1].ravel())\n",
    "    mB=np.mean(Image[:,:,2].ravel())\n",
    "    PR=np.abs(PeriodicComponent(Image[:,:,0]))\n",
    "    PG=np.abs(PeriodicComponent(Image[:,:,1]))\n",
    "    PB=np.abs(PeriodicComponent(Image[:,:,2]))\n",
    "    Texture=np.ones([S0,S1,3])\n",
    "    Texture[:,:,0]=Texture[:,:,0]*mR\n",
    "    Texture[:,:,1]=Texture[:,:,1]*mG\n",
    "    Texture[:,:,2]=Texture[:,:,2]*mB\n",
    "    Texture[(S0/2-M/2):(S0/2-M/2+M),(S1/2-N/2):(S1/2-N/2+N),0]=(PR-mR*np.ones([M,N]))*np.sqrt(S0*S1/(M*N))+mR*np.ones([M,N])\n",
    "    Texture[(S0/2-M/2):(S0/2-M/2+M),(S1/2-N/2):(S1/2-N/2+N),1]=(PG-mG*np.ones([M,N]))*np.sqrt(S0*S1/(M*N))+mG*np.ones([M,N])\n",
    "    Texture[(S0/2-M/2):(S0/2-M/2+M),(S1/2-N/2):(S1/2-N/2+N),2]=(PB-mB*np.ones([M,N]))*np.sqrt(S0*S1/(M*N))+mB*np.ones([M,N])\n",
    "    R=RPN(Texture)\n",
    "    R[R<0]=0\n",
    "    R[R>1]=0.99999\n",
    "    return R"
   ]
  },
  {
   "cell_type": "code",
   "execution_count": 37,
   "metadata": {
    "scrolled": false
   },
   "outputs": [
    {
     "name": "stdout",
     "output_type": "stream",
     "text": [
      " \n",
      "*** Profile stats marshalled to file u'c:\\\\users\\\\jqxs\\\\appdata\\\\local\\\\temp\\\\tmpghordu'. \n"
     ]
    }
   ],
   "source": [
    "%%snakeviz\n",
    "img=np.array(mpimg.imread('../../net.png')[:,:,:3])\n",
    "# plt.imshow(img,cmap='gray')\n",
    "# plt.axis('off')\n",
    "# plt.show()\n",
    "b=ExpandTexture(np.array(img,dtype=np.float),300,300)\n",
    "# plt.imshow(b,cmap='gray')\n",
    "# plt.axis('off')\n",
    "# plt.show()"
   ]
  },
  {
   "cell_type": "code",
   "execution_count": null,
   "metadata": {
    "collapsed": true
   },
   "outputs": [],
   "source": []
  }
 ],
 "metadata": {
  "kernelspec": {
   "display_name": "Python 2",
   "language": "python",
   "name": "python2"
  },
  "language_info": {
   "codemirror_mode": {
    "name": "ipython",
    "version": 2
   },
   "file_extension": ".py",
   "mimetype": "text/x-python",
   "name": "python",
   "nbconvert_exporter": "python",
   "pygments_lexer": "ipython2",
   "version": "2.7.13"
  }
 },
 "nbformat": 4,
 "nbformat_minor": 2
}
