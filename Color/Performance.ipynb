{
 "cells": [
  {
   "cell_type": "code",
   "execution_count": 31,
   "metadata": {
    "collapsed": true
   },
   "outputs": [],
   "source": [
    "import numpy as np\n",
    "import matplotlib.pyplot as plt\n",
    "from mpl_toolkits.mplot3d import Axes3D\n",
    "%matplotlib qt5\n",
    "\n",
    "#Simulation of the performance of different algorithm and their asymptotic complexity\n",
    "#For this, the patch size is set to be a function of the input. (In a lot of cases a patch size of around 1/5 of the side\n",
    "#of the input was used)\n",
    "#Overlap is set to be PatchSize/6 like recommended in the paper"
   ]
  },
  {
   "cell_type": "code",
   "execution_count": 32,
   "metadata": {
    "collapsed": true
   },
   "outputs": [],
   "source": [
    "#2D simulation with \n",
    "fig = plt.figure()\n",
    "ax = fig.gca(projection='3d')\n",
    "X = np.arange(5, 100, 1,dtype=np.float)\n",
    "Y = np.arange(5, 100, 1,dtype=np.float)\n",
    "X, Y = np.meshgrid(X, Y)\n",
    "RPNComplexity = X*np.log10(X)+Y*np.log10(Y)\n",
    "DensityComplexity = X*np.square(np.log10(X))+Y*np.square(np.log10(Y))\n",
    "QuiltingComplexity =X*np.log10(X)*Y\n",
    "NonParamComplexity=X*Y*X/25\n",
    "RPNComplexity=RPNComplexity/np.max(RPNComplexity.ravel())\n",
    "DensityComplexity=DensityComplexity/np.max(DensityComplexity.ravel())\n",
    "QuiltingComplexity=QuiltingComplexity/np.max(QuiltingComplexity.ravel())\n",
    "NonParamComplexity=NonParamComplexity/np.max(NonParamComplexity.ravel())\n",
    "surf = ax.plot_surface(X, Y, DensityComplexity, color='blue')\n",
    "surf = ax.plot_surface(X, Y, RPNComplexity, color='green')\n",
    "surf = ax.plot_surface(X, Y, QuiltingComplexity, color='red')\n",
    "surf = ax.plot_surface(X, Y, NonParamComplexity, color='gray')\n",
    "plt.show()"
   ]
  },
  {
   "cell_type": "code",
   "execution_count": 36,
   "metadata": {
    "collapsed": true,
    "scrolled": false
   },
   "outputs": [],
   "source": [
    "#Case were the Output size is fixed and the Input size varies\n",
    "\n",
    "plt.figure()\n",
    "X = np.arange(1, 100, 1,dtype=np.float)\n",
    "RPNComplexity = X*np.log10(X)\n",
    "DensityComplexity = X*np.square(np.log10(X))\n",
    "QuiltingComplexity = X*np.log10(X)\n",
    "NonParamComplexity=X*X-np.ones_like(X)\n",
    "RPNComplexity=RPNComplexity/np.max(RPNComplexity.ravel())\n",
    "DensityComplexity=DensityComplexity/np.max(DensityComplexity.ravel())\n",
    "QuiltingComplexity=QuiltingComplexity/np.max(QuiltingComplexity.ravel())\n",
    "NonParamComplexity=NonParamComplexity/np.max(NonParamComplexity.ravel())\n",
    "plt.plot(X,RPNComplexity,label='RPN $\\mathcal{O}{(X\\log(X))}$')\n",
    "plt.plot(X,DensityComplexity,label='Density $\\mathcal{O}{(X\\log^2(X))}$')\n",
    "plt.plot(X,NonParamComplexity,label='NonParam $\\mathcal{O}{(X^2)}$')\n",
    "plt.plot(X,QuiltingComplexity,dashes=[5, 5],color='black',label='Quilting $\\mathcal{O}{(X\\log(X))}$')\n",
    "plt.legend()\n",
    "plt.xlabel('Pixels')\n",
    "plt.ylabel('Normalized Time')\n",
    "plt.title('Static Ouput')\n",
    "plt.savefig('./Results/ComplexityFixedOutput.png',dpi=300)\n",
    "plt.show()"
   ]
  },
  {
   "cell_type": "code",
   "execution_count": 34,
   "metadata": {
    "scrolled": false
   },
   "outputs": [],
   "source": [
    "#Case were the Input size is fixed and only the Output size varies\n",
    "\n",
    "plt.figure()\n",
    "Y = np.arange(1, 100, 1,dtype=np.float)\n",
    "RPNComplexity = Y*np.log10(Y)\n",
    "DensityComplexity = Y*np.square(np.log10(Y))\n",
    "QuiltingComplexity = Y-np.ones_like(Y)\n",
    "NonParamComplexity=Y-np.ones_like(Y)\n",
    "RPNComplexity=RPNComplexity/np.max(RPNComplexity.ravel())\n",
    "DensityComplexity=DensityComplexity/np.max(DensityComplexity.ravel())\n",
    "QuiltingComplexity=QuiltingComplexity/np.max(QuiltingComplexity.ravel())\n",
    "NonParamComplexity=NonParamComplexity/np.max(NonParamComplexity.ravel())\n",
    "plt.plot(Y,RPNComplexity,label='RNP $\\mathcal{O}{(Y\\log(Y))}$')\n",
    "plt.plot(Y,DensityComplexity,label='Density $\\mathcal{O}(Y\\log^2(Y))$')\n",
    "plt.plot(Y,NonParamComplexity,label='NonParam $\\mathcal{O}(Y)$')\n",
    "plt.plot(Y,QuiltingComplexity,dashes=[5, 5],color='black',label='Quilting $\\mathcal{O}(Y)$')\n",
    "plt.legend()\n",
    "plt.xlabel('Pixels')\n",
    "plt.ylabel('Normalized Time')\n",
    "plt.title('Static Input')\n",
    "plt.savefig('./Results/ComplexityFixedInput.png',dpi=300)\n",
    "plt.show()"
   ]
  },
  {
   "cell_type": "code",
   "execution_count": 35,
   "metadata": {
    "collapsed": true
   },
   "outputs": [],
   "source": [
    "#Case were the Output size and the Input size are linearly corrlated \n",
    "\n",
    "plt.figure()\n",
    "X = np.arange(1, 100, 1,dtype=np.float)\n",
    "RPNComplexity = X*np.log10(X)+X*np.log10(X)\n",
    "DensityComplexity = X*np.square(np.log10(X))+X*np.square(np.log10(X))\n",
    "QuiltingComplexity = X*np.log10(X)*X\n",
    "NonParamComplexity=X*X*X-np.ones_like(X)\n",
    "RPNComplexity=RPNComplexity/np.max(RPNComplexity.ravel())\n",
    "DensityComplexity=DensityComplexity/np.max(DensityComplexity.ravel())\n",
    "QuiltingComplexity=QuiltingComplexity/np.max(QuiltingComplexity.ravel())\n",
    "NonParamComplexity=NonParamComplexity/np.max(NonParamComplexity.ravel())\n",
    "plt.plot(X,RPNComplexity,label='RPN $\\mathcal{O}{(Y\\log(Y)+X\\log(X))}$')\n",
    "plt.plot(X,DensityComplexity,label='Density $\\mathcal{O}{(Y\\log^2(Y)+X\\log^2(X))}$')\n",
    "plt.plot(X,NonParamComplexity,label='NonParam $\\mathcal{O}{(Y^2 X)}$')\n",
    "plt.plot(X,QuiltingComplexity,dashes=[5, 5],color='black',label='Quilting $\\mathcal{O}{(Y X\\log(X))}$')\n",
    "plt.legend()\n",
    "plt.xlabel('Pixels')\n",
    "plt.ylabel('Normalized Time')\n",
    "plt.title('Linear correlation between Output and Input')\n",
    "plt.savefig('./Results/ComplexityCorrelated.png',dpi=300)\n",
    "plt.show()"
   ]
  },
  {
   "cell_type": "code",
   "execution_count": null,
   "metadata": {},
   "outputs": [],
   "source": []
  },
  {
   "cell_type": "code",
   "execution_count": null,
   "metadata": {
    "collapsed": true
   },
   "outputs": [],
   "source": []
  }
 ],
 "metadata": {
  "kernelspec": {
   "display_name": "Python 2",
   "language": "python",
   "name": "python2"
  },
  "language_info": {
   "codemirror_mode": {
    "name": "ipython",
    "version": 2
   },
   "file_extension": ".py",
   "mimetype": "text/x-python",
   "name": "python",
   "nbconvert_exporter": "python",
   "pygments_lexer": "ipython2",
   "version": "2.7.13"
  }
 },
 "nbformat": 4,
 "nbformat_minor": 2
}
