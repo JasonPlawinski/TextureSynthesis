{
 "cells": [
  {
   "cell_type": "code",
   "execution_count": 15,
   "metadata": {
    "scrolled": false
   },
   "outputs": [],
   "source": [
    "import numpy as np\n",
    "import matplotlib.pyplot as plt\n",
    "from mpl_toolkits.mplot3d import Axes3D\n",
    "from matplotlib import cm\n",
    "%matplotlib qt5"
   ]
  },
  {
   "cell_type": "code",
   "execution_count": 36,
   "metadata": {},
   "outputs": [],
   "source": [
    "#Patch Size defined as Side of Input Image/5\n",
    "#Overlap is set to Patch/6\n",
    "\n",
    "#Set Input Size\n",
    "\n",
    "# Make data.\n",
    "fig = plt.figure()\n",
    "ax = fig.gca(projection='3d')\n",
    "X = np.arange(5, 100, 1,dtype=np.float)\n",
    "Y = np.arange(5, 100, 1,dtype=np.float)\n",
    "X, Y = np.meshgrid(X, Y)\n",
    "RPNComplexity = X*np.log10(X)+Y*np.log10(Y)\n",
    "DensityComplexity = X*np.square(np.log10(X))+Y*np.square(np.log10(Y))\n",
    "QuiltingComplexity =X*np.log10(X)*Y\n",
    "NonParamComplexity=X*Y*X/25\n",
    "RPNComplexity=RPNComplexity/np.max(RPNComplexity.ravel())\n",
    "DensityComplexity=DensityComplexity/np.max(DensityComplexity.ravel())\n",
    "QuiltingComplexity=QuiltingComplexity/np.max(QuiltingComplexity.ravel())\n",
    "NonParamComplexity=NonParamComplexity/np.max(NonParamComplexity.ravel())\n",
    "surf = ax.plot_surface(X, Y, DensityComplexity, color='blue')\n",
    "surf = ax.plot_surface(X, Y, RPNComplexity, color='green')\n",
    "surf = ax.plot_surface(X, Y, QuiltingComplexity, color='red')\n",
    "surf = ax.plot_surface(X, Y, NonParamComplexity, color='gray')\n",
    "plt.show()"
   ]
  },
  {
   "cell_type": "code",
   "execution_count": 80,
   "metadata": {
    "collapsed": true
   },
   "outputs": [],
   "source": [
    "plt.figure()\n",
    "X = np.arange(1, 100, 1,dtype=np.float)\n",
    "RPNComplexity = X*np.log10(X)\n",
    "DensityComplexity = X*np.square(np.log10(X))\n",
    "QuiltingComplexity = X*np.log10(X)\n",
    "NonParamComplexity=X*X-np.ones_like(X)\n",
    "RPNComplexity=RPNComplexity/np.max(RPNComplexity.ravel())\n",
    "DensityComplexity=DensityComplexity/np.max(DensityComplexity.ravel())\n",
    "QuiltingComplexity=QuiltingComplexity/np.max(QuiltingComplexity.ravel())\n",
    "NonParamComplexity=NonParamComplexity/np.max(NonParamComplexity.ravel())\n",
    "plt.plot(X,RPNComplexity,label='RPN')\n",
    "plt.plot(X,DensityComplexity,label='Density')\n",
    "plt.plot(X,NonParamComplexity,label='NonParam')\n",
    "plt.plot(X,QuiltingComplexity,dashes=[5, 5],color='black',label='Quilting')\n",
    "plt.legend()\n",
    "plt.xlabel('Pixels')\n",
    "plt.ylabel('Normalized Time')\n",
    "plt.title('Static Ouput')\n",
    "plt.savefig('ComplexityFixedOutput.png',dpi=300)\n",
    "plt.show()"
   ]
  },
  {
   "cell_type": "code",
   "execution_count": 81,
   "metadata": {},
   "outputs": [],
   "source": [
    "plt.figure()\n",
    "Y = np.arange(1, 100, 1,dtype=np.float)\n",
    "RPNComplexity = Y*np.log10(Y)\n",
    "DensityComplexity = Y*np.square(np.log10(Y))\n",
    "QuiltingComplexity = Y-np.ones_like(Y)\n",
    "NonParamComplexity=Y-np.ones_like(Y)\n",
    "RPNComplexity=RPNComplexity/np.max(RPNComplexity.ravel())\n",
    "DensityComplexity=DensityComplexity/np.max(DensityComplexity.ravel())\n",
    "QuiltingComplexity=QuiltingComplexity/np.max(QuiltingComplexity.ravel())\n",
    "NonParamComplexity=NonParamComplexity/np.max(NonParamComplexity.ravel())\n",
    "plt.plot(Y,RPNComplexity,label='RPN')\n",
    "plt.plot(Y,DensityComplexity,label='Density')\n",
    "plt.plot(Y,NonParamComplexity,label='NonParam')\n",
    "plt.plot(Y,QuiltingComplexity,dashes=[5, 5],color='black',label='Quilting')\n",
    "plt.legend()\n",
    "plt.xlabel('Pixels')\n",
    "plt.ylabel('Normalized Time')\n",
    "plt.title('Static Input')\n",
    "plt.savefig('ComplexityFixedInput.png',dpi=300)\n",
    "plt.show()"
   ]
  },
  {
   "cell_type": "code",
   "execution_count": 82,
   "metadata": {
    "collapsed": true
   },
   "outputs": [],
   "source": [
    "plt.figure()\n",
    "X = np.arange(1, 100, 1,dtype=np.float)\n",
    "RPNComplexity = X*np.log10(X)+X*np.log10(X)\n",
    "DensityComplexity = X*np.square(np.log10(X))+X*np.square(np.log10(X))\n",
    "QuiltingComplexity = X*np.log10(X)*X\n",
    "NonParamComplexity=X*X*X-np.ones_like(X)\n",
    "RPNComplexity=RPNComplexity/np.max(RPNComplexity.ravel())\n",
    "DensityComplexity=DensityComplexity/np.max(DensityComplexity.ravel())\n",
    "QuiltingComplexity=QuiltingComplexity/np.max(QuiltingComplexity.ravel())\n",
    "NonParamComplexity=NonParamComplexity/np.max(NonParamComplexity.ravel())\n",
    "plt.plot(X,RPNComplexity,label='RPN')\n",
    "plt.plot(X,DensityComplexity,label='Density')\n",
    "plt.plot(X,NonParamComplexity,label='NonParam')\n",
    "plt.plot(X,QuiltingComplexity,dashes=[5, 5],color='black',label='Quilting')\n",
    "plt.legend()\n",
    "plt.xlabel('Pixels')\n",
    "plt.ylabel('Normalized Time')\n",
    "plt.title('Linear correlation between Output and Input')\n",
    "plt.savefig('ComplexityCorrelated.png',dpi=300)\n",
    "plt.show()"
   ]
  },
  {
   "cell_type": "code",
   "execution_count": null,
   "metadata": {
    "collapsed": true
   },
   "outputs": [],
   "source": []
  }
 ],
 "metadata": {
  "kernelspec": {
   "display_name": "Python 2",
   "language": "python",
   "name": "python2"
  },
  "language_info": {
   "codemirror_mode": {
    "name": "ipython",
    "version": 2
   },
   "file_extension": ".py",
   "mimetype": "text/x-python",
   "name": "python",
   "nbconvert_exporter": "python",
   "pygments_lexer": "ipython2",
   "version": "2.7.13"
  }
 },
 "nbformat": 4,
 "nbformat_minor": 2
}
