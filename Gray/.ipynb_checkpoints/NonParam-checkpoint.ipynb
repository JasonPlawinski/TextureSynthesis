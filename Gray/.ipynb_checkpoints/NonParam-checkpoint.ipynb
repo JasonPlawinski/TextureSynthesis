{
 "cells": [
  {
   "cell_type": "code",
   "execution_count": 1,
   "metadata": {
    "collapsed": true
   },
   "outputs": [],
   "source": [
    "import numpy as np\n",
    "import matplotlib.pyplot as plt\n",
    "import matplotlib.image as mpimg\n",
    "import math\n",
    "from random import randint\n",
    "import scipy.stats as st\n",
    "%matplotlib inline"
   ]
  },
  {
   "cell_type": "code",
   "execution_count": 3,
   "metadata": {
    "collapsed": true
   },
   "outputs": [],
   "source": [
    "def rgb2gray(rgb):\n",
    "\n",
    "    r, g, b = rgb[:,:,0], rgb[:,:,1], rgb[:,:,2]\n",
    "    gray = 0.2989 * r + 0.5870 * g + 0.1140 * b\n",
    "\n",
    "    return gray\n",
    "\n",
    "def gkern(kernlen=21, nsig=3):\n",
    "    \"\"\"Returns a 2D Gaussian kernel array.\"\"\"\n",
    "\n",
    "    interval = (2*nsig+1.)/(kernlen)\n",
    "    x = np.linspace(-nsig-interval/2., nsig+interval/2., kernlen+1)\n",
    "    kern1d = np.diff(st.norm.cdf(x))\n",
    "    kernel_raw = np.sqrt(np.outer(kern1d, kern1d))\n",
    "    kernel = kernel_raw/kernel_raw.sum()\n",
    "    return kernel"
   ]
  },
  {
   "cell_type": "code",
   "execution_count": 5,
   "metadata": {
    "collapsed": true
   },
   "outputs": [],
   "source": [
    "def GetSeed(Image):\n",
    "    Size=Image.shape\n",
    "    cx=randint(2,Size[0]-2)\n",
    "    cy=randint(2,Size[1]-2)\n",
    "    Seed=Image[cx-1:cx+2,cy-1:cy+2,:]*.99\n",
    "    return(Seed)\n",
    "\n",
    "def Image2Fill(SizeX,SizeY,Image):\n",
    "    seed=GetSeed(Image)\n",
    "    NewImage = np.empty([SizeX,SizeY,3])\n",
    "    NewImage.fill(np.nan)\n",
    "    NewImage[SizeX/2-1:SizeX/2+2,SizeY/2-1:SizeY/2+2]=seed\n",
    "    return NewImage\n",
    "\n",
    "def ComputeDistance(CurrentPatch,RefPatch,GKernel):\n",
    "    Mask=~np.logical_and(~np.isnan(CurrentPatch),~np.isnan(RefPatch))\n",
    "    RefPatch2=np.copy(RefPatch)\n",
    "    CurrentPatch[Mask]=np.nan\n",
    "    RefPatch2[Mask]=np.nan\n",
    "    if (np.sum(~Mask*1)<6):\n",
    "#         plt.imshow(RefPatch)\n",
    "#         plt.show()\n",
    "        return 100\n",
    "    else:\n",
    "        DistR=np.nansum(np.square(CurrentPatch[:,:,0]-RefPatch[:,:,0])*GKernel)/np.sum(GKernel[~Mask[:,:,0]])*0.2989\n",
    "        DistG=np.nansum(np.square(CurrentPatch[:,:,1]-RefPatch[:,:,1])*GKernel)/np.sum(GKernel[~Mask[:,:,0]])*0.5870\n",
    "        DistB=np.nansum(np.square(CurrentPatch[:,:,2]-RefPatch[:,:,2])*GKernel)/np.sum(GKernel[~Mask[:,:,0]])*0.1140\n",
    "        return DistR+DistG+DistB\n",
    "\n",
    "def GetUnfilledNeigbors(NewImage):\n",
    "    Size=np.array(NewImage.shape)\n",
    "    Size[0]=Size[0]-2\n",
    "    Size[1]=Size[1]-2\n",
    "    Neighbors=np.zeros([Size[0]*Size[1],3],dtype=int)\n",
    "    ind=0\n",
    "    for i in range(1,Size[0]+1):\n",
    "        for j in range(1,Size[1]+1):\n",
    "            Neighbors[ind,1]=i\n",
    "            Neighbors[ind,2]=j\n",
    "            if ~np.isnan(NewImage[i,j,0]):\n",
    "                Neighbors[ind,0]=-1\n",
    "            else:\n",
    "                Patch=NewImage[i-1:i+2,j-1:j+2,0]\n",
    "                Patch[1,1]=np.nan\n",
    "                Neighbors[ind,0]=np.sum(~np.isnan(Patch))\n",
    "            ind=ind+1\n",
    "    return Neighbors\n",
    "\n",
    "def Distance(WindowSize,Image,NewImage,Sigma,Pixelx,Pixely):\n",
    "    SizeNewImage=np.array(NewImage.shape)\n",
    "    SizeImage=np.array(Image.shape)\n",
    "    GKernel=gkern(WindowSize, Sigma)\n",
    "    DistMat=np.ones_like(Image[:,:,0])*100\n",
    "    \n",
    "    RefPatch=np.empty([WindowSize,WindowSize,3])\n",
    "    RefPatch.fill(np.nan)\n",
    "    minxNew=np.max([0,Pixelx-WindowSize/2])\n",
    "    minyNew=np.max([0,Pixely-WindowSize/2])\n",
    "    maxxNew=np.min([SizeNewImage[0],Pixelx+WindowSize/2])\n",
    "    maxyNew=np.min([SizeNewImage[1],Pixely+WindowSize/2])\n",
    "\n",
    "    xmPatchRef=np.max([WindowSize/2-Pixelx,0])\n",
    "    xMPatchRef=np.min([WindowSize,SizeNewImage[0] + WindowSize/2 - Pixelx])\n",
    "    ymPatchRef=np.max([WindowSize/2-Pixely,0])\n",
    "    yMPatchRef=np.min([WindowSize,SizeNewImage[1] + WindowSize/2 - Pixely])\n",
    "    RefPatch[xmPatchRef:xMPatchRef,ymPatchRef:yMPatchRef,:]= NewImage[minxNew:maxxNew+1,minyNew:maxyNew+1,:]\n",
    "    \n",
    "    for i in range(WindowSize/2,SizeImage[0]+1-WindowSize/2):\n",
    "        for j in range(WindowSize/2,SizeImage[1]+1-WindowSize/2):\n",
    "            xmPatch=np.max([WindowSize/2-i,0])\n",
    "            xMPatch=np.min([WindowSize,SizeImage[0] + WindowSize/2 - i])\n",
    "            ymPatch=np.max([WindowSize/2-j,0])\n",
    "            yMPatch=np.min([WindowSize,SizeImage[1] + WindowSize/2 - j])\n",
    "            minx=i-WindowSize/2\n",
    "            miny=j-WindowSize/2\n",
    "            maxx=i+WindowSize/2\n",
    "            maxy=j+WindowSize/2\n",
    "            CurrentPatch=np.empty([WindowSize,WindowSize,3])\n",
    "            CurrentPatch.fill(np.nan)\n",
    "            CurrentPatch[xmPatch:xMPatch,ymPatch:yMPatch,:]=Image[minx:maxx+1,miny:maxy+1,:]\n",
    "            dist=ComputeDistance(CurrentPatch,RefPatch,GKernel)\n",
    "            DistMat[i][j]=dist\n",
    "    return DistMat\n",
    "\n",
    "\n",
    "def GrowTexture(WindowSize,SizeX,SizeY,Image):\n",
    "    Threshold=0.1\n",
    "    Sigma=WindowSize/6.4\n",
    "    MaxErrorThresh=0.3\n",
    "    \n",
    "    NewImage=Image2Fill(SizeX,SizeY,Image)\n",
    "    Neighbors=GetUnfilledNeigbors(NewImage)\n",
    "    count=0\n",
    "    while(sum((Neighbors[:,0]>0)*1)>1):\n",
    "        progress=0\n",
    "        posNei=np.argmax(Neighbors,0)[0]\n",
    "        posNei=Neighbors[posNei,:]\n",
    "        Pixelx=posNei[1]\n",
    "        Pixely=posNei[2]\n",
    "        Dist=Distance(WindowSize,Image,NewImage,Sigma,Pixelx,Pixely)\n",
    "        indicesDist=np.array(np.where(Dist<=(np.min(Dist)*(1+Threshold))))\n",
    "        randind=randint(0,len(indicesDist[0])-1)\n",
    "        if Dist[indicesDist[0,randind],indicesDist[1,randind]] < MaxErrorThresh:\n",
    "            IndiceImage=[indicesDist[0,randind],indicesDist[1,randind]]\n",
    "            NewImage[Pixelx,Pixely,:]=Image[IndiceImage[0],IndiceImage[1],:]\n",
    "            progress=1\n",
    "        if progress  == 0:\n",
    "            MaxErrorThresh=MaxErrorThresh*1.1\n",
    "        count=count+1\n",
    "        Neighbors=GetUnfilledNeigbors(NewImage)\n",
    "#         if (count%75==0):\n",
    "#             plt.imshow(NewImage,cmap='gray')\n",
    "#             plt.show()\n",
    "            \n",
    "    return NewImage[1:-1,1:-1]\n",
    "    "
   ]
  },
  {
   "cell_type": "code",
   "execution_count": 6,
   "metadata": {
    "scrolled": false
   },
   "outputs": [
    {
     "ename": "NameError",
     "evalue": "name 'img' is not defined",
     "output_type": "error",
     "traceback": [
      "\u001b[1;31m---------------------------------------------------------------------------\u001b[0m",
      "\u001b[1;31mNameError\u001b[0m                                 Traceback (most recent call last)",
      "\u001b[1;32m<ipython-input-6-f6e87ed5f58e>\u001b[0m in \u001b[0;36m<module>\u001b[1;34m()\u001b[0m\n\u001b[1;32m----> 1\u001b[1;33m \u001b[0mb\u001b[0m\u001b[1;33m=\u001b[0m\u001b[0mGrowTexture\u001b[0m\u001b[1;33m(\u001b[0m\u001b[1;36m5\u001b[0m\u001b[1;33m,\u001b[0m\u001b[1;36m20\u001b[0m\u001b[1;33m,\u001b[0m\u001b[1;36m20\u001b[0m\u001b[1;33m,\u001b[0m\u001b[0mimg\u001b[0m\u001b[1;33m)\u001b[0m\u001b[1;33m\u001b[0m\u001b[0m\n\u001b[0m\u001b[0;32m      2\u001b[0m \u001b[0mplt\u001b[0m\u001b[1;33m.\u001b[0m\u001b[0mimshow\u001b[0m\u001b[1;33m(\u001b[0m\u001b[0mb\u001b[0m\u001b[1;33m)\u001b[0m\u001b[1;33m\u001b[0m\u001b[0m\n",
      "\u001b[1;31mNameError\u001b[0m: name 'img' is not defined"
     ]
    }
   ],
   "source": [
    "b=GrowTexture(5,20,20,img)\n",
    "plt.imshow(b)"
   ]
  },
  {
   "cell_type": "code",
   "execution_count": null,
   "metadata": {
    "scrolled": false
   },
   "outputs": [],
   "source": []
  },
  {
   "cell_type": "code",
   "execution_count": 56,
   "metadata": {
    "scrolled": false
   },
   "outputs": [
    {
     "name": "stdout",
     "output_type": "stream",
     "text": [
      "0.3\n"
     ]
    },
    {
     "data": {
      "text/plain": [
       "<matplotlib.image.AxesImage at 0xad3d6d8>"
      ]
     },
     "execution_count": 56,
     "metadata": {},
     "output_type": "execute_result"
    },
    {
     "data": {
      "image/png": "[encoded data removed]",
      "text/plain": [
       "<matplotlib.figure.Figure at 0xa7abc50>"
      ]
     },
     "metadata": {},
     "output_type": "display_data"
    }
   ],
   "source": [
    "b=GrowTexture(13,30,30,img)\n",
    "plt.imshow(b)"
   ]
  },
  {
   "cell_type": "code",
   "execution_count": 59,
   "metadata": {},
   "outputs": [
    {
     "name": "stdout",
     "output_type": "stream",
     "text": [
      "0.3\n"
     ]
    },
    {
     "data": {
      "text/plain": [
       "<matplotlib.image.AxesImage at 0x9782160>"
      ]
     },
     "execution_count": 59,
     "metadata": {},
     "output_type": "execute_result"
    },
    {
     "data": {
      "image/png": "[encoded data removed]",
      "text/plain": [
       "<matplotlib.figure.Figure at 0xad6fa58>"
      ]
     },
     "metadata": {},
     "output_type": "display_data"
    }
   ],
   "source": [
    "b=GrowTexture(13,40,40,img)\n",
    "plt.imshow(b)"
   ]
  },
  {
   "cell_type": "code",
   "execution_count": 52,
   "metadata": {
    "scrolled": true
   },
   "outputs": [
    {
     "name": "stdout",
     "output_type": "stream",
     "text": [
      "0.3\n",
      "         48814275 function calls in 80.740 seconds\n",
      "\n",
      "   Ordered by: standard name\n",
      "\n",
      "   ncalls  tottime  percall  cumtime  percall filename:lineno(function)\n",
      "      159    0.002    0.000    0.025    0.000 <ipython-input-3-1b6958c3146c>:8(gkern)\n",
      "        1    0.000    0.000    0.000    0.000 <ipython-input-48-d0430fcf149c>:1(GetSeed)\n",
      "   651264   19.436    0.000   46.136    0.000 <ipython-input-48-d0430fcf149c>:15(ComputeDistance)\n",
      "      160    0.073    0.000    0.113    0.001 <ipython-input-48-d0430fcf149c>:30(GetUnfilledNeigbors)\n",
      "      159    9.168    0.058   80.613    0.507 <ipython-input-48-d0430fcf149c>:49(Distance)\n",
      "        1    0.000    0.000    0.000    0.000 <ipython-input-48-d0430fcf149c>:8(Image2Fill)\n",
      "        1    0.004    0.004   80.740   80.740 <ipython-input-48-d0430fcf149c>:85(GrowTexture)\n",
      "        1    0.000    0.000   80.740   80.740 <string>:1(<module>)\n",
      "      159    0.000    0.000    0.000    0.000 <string>:2(_parse_args)\n",
      "      159    0.000    0.000    0.001    0.000 _continuous_distns.py:132(_cdf)\n",
      "      159    0.001    0.000    0.001    0.000 _continuous_distns.py:76(_norm_cdf)\n",
      "      159    0.005    0.000    0.017    0.000 _distn_infrastructure.py:1706(cdf)\n",
      "      159    0.001    0.000    0.004    0.000 _distn_infrastructure.py:524(argsreduce)\n",
      "      159    0.000    0.000    0.000    0.000 _distn_infrastructure.py:863(_argcheck)\n",
      "      159    0.001    0.000    0.001    0.000 _distn_infrastructure.py:878(_open_support_mask)\n",
      "  2605692    0.630    0.000    7.781    0.000 _methods.py:25(_amax)\n",
      "  2605851    0.608    0.000    7.679    0.000 _methods.py:28(_amin)\n",
      "  4554865    1.039    0.000    8.771    0.000 _methods.py:31(_sum)\n",
      "      159    0.000    0.000    0.001    0.000 _methods.py:37(_any)\n",
      "      318    0.000    0.000    0.001    0.000 fromnumeric.py:1364(ravel)\n",
      "      159    0.000    0.000    0.000    0.000 fromnumeric.py:1471(nonzero)\n",
      "      159    0.000    0.000    0.000    0.000 fromnumeric.py:1549(shape)\n",
      "  4554706    5.048    0.000   15.022    0.000 fromnumeric.py:1710(sum)\n",
      "      159    0.000    0.000    0.001    0.000 fromnumeric.py:1866(any)\n",
      "  2605692    4.705    0.000   12.486    0.000 fromnumeric.py:2154(amax)\n",
      "  2605851    4.458    0.000   12.137    0.000 fromnumeric.py:2255(amin)\n",
      "      477    0.000    0.000    0.002    0.000 fromnumeric.py:55(_wrapfunc)\n",
      "      159    0.000    0.000    0.001    0.000 fromnumeric.py:70(take)\n",
      "      159    0.000    0.000    0.001    0.000 fromnumeric.py:910(argmax)\n",
      "      159    0.000    0.000    0.000    0.000 function_base.py:13(_index_deprecate)\n",
      "   651264    0.285    0.000    1.053    0.000 function_base.py:1453(copy)\n",
      "      159    0.001    0.000    0.001    0.000 function_base.py:1709(diff)\n",
      "      159    0.000    0.000    0.002    0.000 function_base.py:2120(extract)\n",
      "      477    0.000    0.000    0.001    0.000 function_base.py:2171(place)\n",
      "      159    0.002    0.000    0.004    0.000 function_base.py:25(linspace)\n",
      "        3    0.000    0.000    0.000    0.000 iostream.py:180(schedule)\n",
      "        2    0.000    0.000    0.000    0.000 iostream.py:284(_is_master_process)\n",
      "        2    0.000    0.000    0.000    0.000 iostream.py:297(_schedule_flush)\n",
      "        2    0.000    0.000    0.000    0.000 iostream.py:342(write)\n",
      "        3    0.000    0.000    0.000    0.000 iostream.py:87(_event_pipe)\n",
      "  1945281    3.778    0.000    9.156    0.000 nanfunctions.py:36(_replace_nan)\n",
      "  1945281    1.508    0.000   17.303    0.000 nanfunctions.py:451(nansum)\n",
      "      159    0.001    0.000    0.001    0.000 numeric.py:1076(outer)\n",
      "      954    0.000    0.000    0.001    0.000 numeric.py:463(asarray)\n",
      "     1113    0.001    0.000    0.001    0.000 numeric.py:534(asanyarray)\n",
      "      159    0.000    0.000    0.001    0.000 numeric.py:87(zeros_like)\n",
      "      318    0.002    0.000    0.002    0.000 numerictypes.py:942(_can_coerce_all)\n",
      "      159    0.000    0.000    0.002    0.000 numerictypes.py:964(find_common_type)\n",
      "      161    0.001    0.000    0.001    0.000 random.py:175(randrange)\n",
      "      161    0.000    0.000    0.001    0.000 random.py:238(randint)\n",
      "      159    0.000    0.000    0.001    0.000 shape_base.py:9(atleast_1d)\n",
      "        3    0.000    0.000    0.000    0.000 threading.py:570(isSet)\n",
      "        3    0.000    0.000    0.000    0.000 threading.py:986(isAlive)\n",
      "        2    0.000    0.000    0.000    0.000 utf_8.py:15(decode)\n",
      "        2    0.000    0.000    0.000    0.000 {_codecs.utf_8_decode}\n",
      "      477    0.000    0.000    0.000    0.000 {getattr}\n",
      "  6500943    1.381    0.000    1.381    0.000 {isinstance}\n",
      "  1945281    0.370    0.000    0.370    0.000 {issubclass}\n",
      "     3180    0.000    0.000    0.000    0.000 {len}\n",
      "      318    0.000    0.000    0.001    0.000 {map}\n",
      "      159    0.000    0.000    0.001    0.000 {method 'any' of 'numpy.ndarray' objects}\n",
      "      159    0.000    0.000    0.000    0.000 {method 'append' of 'list' objects}\n",
      "      159    0.001    0.000    0.001    0.000 {method 'argmax' of 'numpy.ndarray' objects}\n",
      "      159    0.000    0.000    0.000    0.000 {method 'astype' of 'numpy.ndarray' objects}\n",
      "        2    0.000    0.000    0.000    0.000 {method 'decode' of 'str' objects}\n",
      "        1    0.000    0.000    0.000    0.000 {method 'disable' of '_lsprof.Profiler' objects}\n",
      "   651424    0.287    0.000    0.287    0.000 {method 'fill' of 'numpy.ndarray' objects}\n",
      "      159    0.000    0.000    0.000    0.000 {method 'nonzero' of 'numpy.ndarray' objects}\n",
      "      161    0.000    0.000    0.000    0.000 {method 'random' of '_random.Random' objects}\n",
      "      636    0.000    0.000    0.000    0.000 {method 'ravel' of 'numpy.ndarray' objects}\n",
      "  9766567   21.954    0.000   21.954    0.000 {method 'reduce' of 'numpy.ufunc' objects}\n",
      "      159    0.000    0.000    0.001    0.000 {method 'sum' of 'numpy.ndarray' objects}\n",
      "      159    0.000    0.000    0.000    0.000 {method 'take' of 'numpy.ndarray' objects}\n",
      "        2    0.000    0.000    0.000    0.000 {nt.getpid}\n",
      "        3    0.000    0.000    0.000    0.000 {nt.urandom}\n",
      "      477    0.001    0.000    0.001    0.000 {numpy.core.multiarray._insert}\n",
      "      159    0.000    0.000    0.000    0.000 {numpy.core.multiarray.arange}\n",
      "  2599249    2.708    0.000    2.708    0.000 {numpy.core.multiarray.array}\n",
      "  1945440    2.894    0.000    2.894    0.000 {numpy.core.multiarray.copyto}\n",
      "      159    0.000    0.000    0.000    0.000 {numpy.core.multiarray.empty_like}\n",
      "   651424    0.366    0.000    0.366    0.000 {numpy.core.multiarray.empty}\n",
      "      159    0.000    0.000    0.000    0.000 {numpy.core.multiarray.result_type}\n",
      "      159    0.003    0.000    0.003    0.000 {numpy.core.multiarray.where}\n",
      "      478    0.001    0.000    0.001    0.000 {numpy.core.multiarray.zeros}\n",
      "      159    0.000    0.000    0.000    0.000 {operator.index}\n",
      "    12575    0.009    0.000    0.009    0.000 {range}\n",
      "      160    0.003    0.000    0.003    0.000 {sum}\n",
      "\n",
      "\n"
     ]
    }
   ],
   "source": [
    "import cProfile\n",
    "cProfile.run('GrowTexture(11,15,15,img)')"
   ]
  },
  {
   "cell_type": "code",
   "execution_count": 18,
   "metadata": {
    "scrolled": true
   },
   "outputs": [
    {
     "name": "stdout",
     "output_type": "stream",
     "text": [
      "False\n",
      "(15L, 15L)\n",
      "         30677883 function calls in 52.837 seconds\n",
      "\n",
      "   Ordered by: standard name\n",
      "\n",
      "   ncalls  tottime  percall  cumtime  percall filename:lineno(function)\n",
      "        1    0.000    0.000    0.000    0.000 <ipython-input-15-8ee03b24d291>:1(GetSeed)\n",
      "   651264    8.281    0.000   19.569    0.000 <ipython-input-15-8ee03b24d291>:15(ComputeDistance)\n",
      "      160    0.075    0.000    0.114    0.001 <ipython-input-15-8ee03b24d291>:28(GetUnfilledNeigbors)\n",
      "      159    8.347    0.052   52.709    0.332 <ipython-input-15-8ee03b24d291>:47(Distance)\n",
      "        1    0.000    0.000    0.000    0.000 <ipython-input-15-8ee03b24d291>:8(Image2Fill)\n",
      "        1    0.004    0.004   52.837   52.837 <ipython-input-15-8ee03b24d291>:83(GrowTexture)\n",
      "      159    0.002    0.000    0.025    0.000 <ipython-input-4-1b6958c3146c>:8(gkern)\n",
      "        1    0.000    0.000   52.837   52.837 <string>:1(<module>)\n",
      "      159    0.000    0.000    0.000    0.000 <string>:2(_parse_args)\n",
      "      159    0.000    0.000    0.001    0.000 _continuous_distns.py:132(_cdf)\n",
      "      159    0.001    0.000    0.001    0.000 _continuous_distns.py:76(_norm_cdf)\n",
      "      159    0.006    0.000    0.017    0.000 _distn_infrastructure.py:1706(cdf)\n",
      "      159    0.001    0.000    0.004    0.000 _distn_infrastructure.py:524(argsreduce)\n",
      "      159    0.000    0.000    0.000    0.000 _distn_infrastructure.py:863(_argcheck)\n",
      "      159    0.001    0.000    0.001    0.000 _distn_infrastructure.py:878(_open_support_mask)\n",
      "  2605692    0.597    0.000    7.767    0.000 _methods.py:25(_amax)\n",
      "  2605692    0.605    0.000    7.712    0.000 _methods.py:28(_amin)\n",
      "  1963993    0.449    0.000    3.784    0.000 _methods.py:31(_sum)\n",
      "      159    0.000    0.000    0.001    0.000 _methods.py:37(_any)\n",
      "        1    0.000    0.000    0.000    0.000 arrayprint.py:340(array2string)\n",
      "      318    0.000    0.000    0.001    0.000 fromnumeric.py:1364(ravel)\n",
      "      159    0.000    0.000    0.000    0.000 fromnumeric.py:1471(nonzero)\n",
      "      159    0.000    0.000    0.000    0.000 fromnumeric.py:1549(shape)\n",
      "  1963834    2.304    0.000    6.632    0.000 fromnumeric.py:1710(sum)\n",
      "      159    0.000    0.000    0.001    0.000 fromnumeric.py:1866(any)\n",
      "  2605692    4.457    0.000   12.224    0.000 fromnumeric.py:2154(amax)\n",
      "  2605692    4.297    0.000   12.009    0.000 fromnumeric.py:2255(amin)\n",
      "      477    0.000    0.000    0.002    0.000 fromnumeric.py:55(_wrapfunc)\n",
      "      159    0.000    0.000    0.001    0.000 fromnumeric.py:70(take)\n",
      "      159    0.000    0.000    0.001    0.000 fromnumeric.py:910(argmax)\n",
      "      159    0.000    0.000    0.000    0.000 function_base.py:13(_index_deprecate)\n",
      "   651264    0.277    0.000    0.840    0.000 function_base.py:1453(copy)\n",
      "      159    0.001    0.000    0.001    0.000 function_base.py:1709(diff)\n",
      "      159    0.000    0.000    0.002    0.000 function_base.py:2120(extract)\n",
      "      477    0.000    0.000    0.001    0.000 function_base.py:2171(place)\n",
      "      159    0.002    0.000    0.004    0.000 function_base.py:25(linspace)\n",
      "        5    0.000    0.000    0.000    0.000 iostream.py:180(schedule)\n",
      "        4    0.000    0.000    0.000    0.000 iostream.py:284(_is_master_process)\n",
      "        4    0.000    0.000    0.000    0.000 iostream.py:297(_schedule_flush)\n",
      "        4    0.000    0.000    0.000    0.000 iostream.py:342(write)\n",
      "        5    0.000    0.000    0.000    0.000 iostream.py:87(_event_pipe)\n",
      "   649845    1.524    0.000    3.329    0.000 nanfunctions.py:36(_replace_nan)\n",
      "   649845    0.524    0.000    6.115    0.000 nanfunctions.py:451(nansum)\n",
      "      159    0.001    0.000    0.002    0.000 numeric.py:1076(outer)\n",
      "        1    0.000    0.000    0.000    0.000 numeric.py:1927(array_str)\n",
      "      954    0.000    0.000    0.001    0.000 numeric.py:463(asarray)\n",
      "     1113    0.001    0.000    0.001    0.000 numeric.py:534(asanyarray)\n",
      "      159    0.000    0.000    0.001    0.000 numeric.py:87(zeros_like)\n",
      "      318    0.002    0.000    0.002    0.000 numerictypes.py:942(_can_coerce_all)\n",
      "      159    0.000    0.000    0.002    0.000 numerictypes.py:964(find_common_type)\n",
      "      161    0.001    0.000    0.001    0.000 random.py:175(randrange)\n",
      "      161    0.000    0.000    0.001    0.000 random.py:238(randint)\n",
      "      159    0.000    0.000    0.001    0.000 shape_base.py:9(atleast_1d)\n",
      "        5    0.000    0.000    0.000    0.000 threading.py:570(isSet)\n",
      "        5    0.000    0.000    0.000    0.000 threading.py:986(isAlive)\n",
      "        4    0.000    0.000    0.000    0.000 utf_8.py:15(decode)\n",
      "        4    0.000    0.000    0.000    0.000 {_codecs.utf_8_decode}\n",
      "      477    0.000    0.000    0.000    0.000 {getattr}\n",
      "  2614637    0.605    0.000    0.605    0.000 {isinstance}\n",
      "   649845    0.120    0.000    0.120    0.000 {issubclass}\n",
      "     3339    0.000    0.000    0.000    0.000 {len}\n",
      "      318    0.000    0.000    0.001    0.000 {map}\n",
      "      159    0.000    0.000    0.001    0.000 {method 'any' of 'numpy.ndarray' objects}\n",
      "      159    0.000    0.000    0.000    0.000 {method 'append' of 'list' objects}\n",
      "      159    0.001    0.000    0.001    0.000 {method 'argmax' of 'numpy.ndarray' objects}\n",
      "      159    0.000    0.000    0.000    0.000 {method 'astype' of 'numpy.ndarray' objects}\n",
      "        4    0.000    0.000    0.000    0.000 {method 'decode' of 'str' objects}\n",
      "        1    0.000    0.000    0.000    0.000 {method 'disable' of '_lsprof.Profiler' objects}\n",
      "   651424    0.240    0.000    0.240    0.000 {method 'fill' of 'numpy.ndarray' objects}\n",
      "        1    0.000    0.000    0.000    0.000 {method 'item' of 'numpy.ndarray' objects}\n",
      "      159    0.000    0.000    0.000    0.000 {method 'nonzero' of 'numpy.ndarray' objects}\n",
      "      161    0.000    0.000    0.000    0.000 {method 'random' of '_random.Random' objects}\n",
      "      636    0.000    0.000    0.000    0.000 {method 'ravel' of 'numpy.ndarray' objects}\n",
      "  7175536   17.612    0.000   17.612    0.000 {method 'reduce' of 'numpy.ufunc' objects}\n",
      "      159    0.000    0.000    0.001    0.000 {method 'sum' of 'numpy.ndarray' objects}\n",
      "      159    0.000    0.000    0.000    0.000 {method 'take' of 'numpy.ndarray' objects}\n",
      "        4    0.000    0.000    0.000    0.000 {nt.getpid}\n",
      "        5    0.000    0.000    0.000    0.000 {nt.urandom}\n",
      "      477    0.001    0.000    0.001    0.000 {numpy.core.multiarray._insert}\n",
      "      159    0.000    0.000    0.000    0.000 {numpy.core.multiarray.arange}\n",
      "  1303813    1.196    0.000    1.196    0.000 {numpy.core.multiarray.array}\n",
      "   650004    0.994    0.000    0.994    0.000 {numpy.core.multiarray.copyto}\n",
      "      159    0.000    0.000    0.000    0.000 {numpy.core.multiarray.empty_like}\n",
      "   651424    0.286    0.000    0.286    0.000 {numpy.core.multiarray.empty}\n",
      "      159    0.000    0.000    0.000    0.000 {numpy.core.multiarray.result_type}\n",
      "      159    0.004    0.000    0.004    0.000 {numpy.core.multiarray.where}\n",
      "      478    0.001    0.000    0.001    0.000 {numpy.core.multiarray.zeros}\n",
      "      159    0.000    0.000    0.000    0.000 {operator.index}\n",
      "    12575    0.008    0.000    0.008    0.000 {range}\n",
      "      161    0.003    0.000    0.003    0.000 {sum}\n",
      "\n",
      "\n"
     ]
    }
   ],
   "source": [
    "import cProfile\n",
    "cProfile.run('GrowTexture(11,15,15,imgray)')"
   ]
  },
  {
   "cell_type": "code",
   "execution_count": null,
   "metadata": {
    "collapsed": true
   },
   "outputs": [],
   "source": [
    "import sys\n",
    "import numpy as np\n",
    "import matplotlib.pyplot as plt\n",
    "from matplotlib.animation import FuncAnimation\n",
    "\n",
    "fig, ax = plt.subplots()\n",
    "fig.set_tight_layout(True)\n",
    "\n",
    "# Query the figure's on-screen size and DPI. Note that when saving the figure to\n",
    "# a file, we need to provide a DPI for that separately.\n",
    "print('fig size: {0} DPI, size in inches {1}'.format(\n",
    "    fig.get_dpi(), fig.get_size_inches()))\n",
    "\n",
    "# Plot a scatter that persists (isn't redrawn) and the initial line.\n",
    "x = np.arange(0, 20, 0.1)\n",
    "ax.scatter(x, x + np.random.normal(0, 3.0, len(x)))\n",
    "line, = ax.plot(x, x - 5, 'r-', linewidth=2)\n",
    "\n",
    "def update(i):\n",
    "    label = 'timestep {0}'.format(i)\n",
    "    print(label)\n",
    "    # Update the line and the axes (with a new xlabel). Return a tuple of\n",
    "    # \"artists\" that have to be redrawn for this frame.\n",
    "    line.set_ydata(x - 5 + i)\n",
    "    ax.set_xlabel(label)\n",
    "    return line, ax\n",
    "\n",
    "if __name__ == '__main__':\n",
    "    # FuncAnimation will call the 'update' function for each frame; here\n",
    "    # animating over 10 frames, with an interval of 200ms between frames.\n",
    "    anim = FuncAnimation(fig, update, frames=np.arange(0, 10), interval=41)\n",
    "    if len(sys.argv) > 1 and sys.argv[1] == 'save':\n",
    "        anim.save('line.gif', dpi=80, writer='imagemagick')\n",
    "    else:\n",
    "        # plt.show() will just loop the animation forever.\n",
    "        plt.show()"
   ]
  },
  {
   "cell_type": "code",
   "execution_count": null,
   "metadata": {
    "collapsed": true
   },
   "outputs": [],
   "source": []
  }
 ],
 "metadata": {
  "kernelspec": {
   "display_name": "Python 2",
   "language": "python",
   "name": "python2"
  },
  "language_info": {
   "codemirror_mode": {
    "name": "ipython",
    "version": 2
   },
   "file_extension": ".py",
   "mimetype": "text/x-python",
   "name": "python",
   "nbconvert_exporter": "python",
   "pygments_lexer": "ipython2",
   "version": "2.7.13"
  }
 },
 "nbformat": 4,
 "nbformat_minor": 2
}
