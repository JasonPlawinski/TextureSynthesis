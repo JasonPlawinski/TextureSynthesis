{
 "cells": [
  {
   "cell_type": "code",
   "execution_count": 2,
   "metadata": {
    "collapsed": true
   },
   "outputs": [],
   "source": [
    "import numpy as np\n",
    "import matplotlib.pyplot as plt\n",
    "import matplotlib.image as mpimg\n",
    "import math\n",
    "from random import randint\n",
    "import scipy.stats as st\n",
    "from scipy import ndimage\n",
    "import bisect\n",
    "%matplotlib inline"
   ]
  },
  {
   "cell_type": "code",
   "execution_count": 3,
   "metadata": {
    "collapsed": true
   },
   "outputs": [],
   "source": [
    "def gabor_fn(sigma, theta, Lambda, psi, gamma):\n",
    "    sigma_x = sigma\n",
    "    sigma_y = float(sigma) / gamma\n",
    "\n",
    "    # Bounding box\n",
    "    nstds = 3 # Number of standard deviation sigma\n",
    "    xmax = max(abs(nstds * sigma_x * np.cos(theta)), abs(nstds * sigma_y * np.sin(theta)))\n",
    "    xmax = np.ceil(max(1, xmax))\n",
    "    ymax = max(abs(nstds * sigma_x * np.sin(theta)), abs(nstds * sigma_y * np.cos(theta)))\n",
    "    ymax = np.ceil(max(1, ymax))\n",
    "    xmin = -xmax\n",
    "    ymin = -ymax\n",
    "    (y, x) = np.meshgrid(np.arange(ymin, ymax + 1), np.arange(xmin, xmax + 1))\n",
    "\n",
    "    # Rotation \n",
    "    x_theta = x * np.cos(theta) + y * np.sin(theta)\n",
    "    y_theta = -x * np.sin(theta) + y * np.cos(theta)\n",
    "\n",
    "    gb = np.exp(-.5 * (x_theta ** 2 / sigma_x ** 2 + y_theta ** 2 / sigma_y ** 2)) * np.cos(2 * np.pi / Lambda * x_theta + psi)\n",
    "    return gb"
   ]
  },
  {
   "cell_type": "code",
   "execution_count": 4,
   "metadata": {
    "collapsed": true
   },
   "outputs": [],
   "source": [
    "def rgb2gray(rgb):\n",
    "\n",
    "    r, g, b = rgb[:,:,0], rgb[:,:,1], rgb[:,:,2]\n",
    "    gray = 0.2989 * r + 0.5870 * g + 0.1140 * b\n",
    "    return gray\n",
    "\n",
    "def gkern(kernlen=21, nsig=3):\n",
    "    \"\"\"Returns a 2D Gaussian kernel array.\"\"\"\n",
    "\n",
    "    interval = (2*nsig+1.)/(kernlen)\n",
    "    x = np.linspace(-nsig-interval/2., nsig+interval/2., kernlen+1)\n",
    "    kern1d = np.diff(st.norm.cdf(x))\n",
    "    kernel_raw = np.sqrt(np.outer(kern1d, kern1d))\n",
    "    kernel = kernel_raw/kernel_raw.sum()\n",
    "    return kernel\n",
    "\n",
    "def Crop(Image):\n",
    "    L=len(Image)\n",
    "    l=len(Image[0])\n",
    "    SizeL=np.int(np.log2(L))\n",
    "    Sizel=np.int(np.log2(l))\n",
    "    if 2**SizeL==L and 2**Sizel == l:\n",
    "        return Image\n",
    "    else:\n",
    "        Side=min([SizeL,Sizel])\n",
    "        Cropped=np.zeros([2**Side,2**Side])\n",
    "        Cropped[:]=Image[int(L/2)-2**(Side-1):int(L/2)+2**(Side-1),int(l/2)-2**(Side-1):int(l/2)+2**(Side-1)]\n",
    "        return Cropped\n",
    "\n",
    "def Reduce(data):\n",
    "    b=SubSample(LowPassFilter(data))\n",
    "    return b\n",
    "\n",
    "def Expand(data):\n",
    "    l=LowPassFilter(UpSample(data))\n",
    "    return l\n",
    "\n",
    "def SubSample(data):\n",
    "    Size=np.array(data.shape,dtype=np.int)/2\n",
    "    return data[0::2,0::2]\n",
    "\n",
    "def UpSample(data):\n",
    "    Size=np.array(data.shape,dtype=np.int)*2\n",
    "    UpSampled=np.zeros(Size)\n",
    "    UpSampled[0::2,0::2]=data[:,:]\n",
    "    return UpSampled\n",
    "\n",
    "def LowPassFilter(data):\n",
    "    Sfilter=2\n",
    "    Filter2D=np.array([[1,4,6,4,1],[4,16,24,16,4],[6,24,36,24,6],[4,16,24,16,4],[1,4,6,4,1]])*1/256.0\n",
    "#     Filter2D=np.array([[1,-1,1],[0,0,0],[1,-1,1]])/2\n",
    "    Result=ndimage.convolve(data, Filter2D, mode='wrap')\n",
    "    return(Result)\n",
    "    \n",
    "\n",
    "class PyramidNode:\n",
    "    def __init__(self,data):\n",
    "        self.data=data\n",
    "    def updateData(self,newdata):\n",
    "        self.data=newdata\n",
    "\n",
    "class Pyramid:\n",
    "    def __init__(self,img):\n",
    "        self.img=img\n",
    "        self.depth=0\n",
    "        self.Llist=[PyramidNode(Reduce(img))]\n",
    "        self.Blist=[PyramidNode(img-Expand(self.Llist[0].data))]\n",
    "        self.size=np.array(self.Llist[0].data.shape)\n",
    "\n",
    "    def makePyramid(self,loop):\n",
    "        for i in range(loop):\n",
    "            self.Llist.append(PyramidNode(Reduce((self.Llist[self.depth]).data)))\n",
    "            self.Blist.append(PyramidNode(self.Llist[self.depth].data-Expand(self.Llist[self.depth+1].data)))\n",
    "            self.depth=self.depth+1\n",
    "\n",
    "    def getL(self,level):\n",
    "        if level<=self.depth:\n",
    "            return(self.Llist[level].data)\n",
    "        else:\n",
    "            return 0\n",
    "\n",
    "    def getB(self,level):\n",
    "        if level<=self.depth:\n",
    "            return(self.Blist[level].data)\n",
    "        else:\n",
    "            return 0\n",
    "    \n",
    "    def updateL(self,level,data):\n",
    "        self.Llist[level].updateData(data)\n",
    "        \n",
    "    def updateB(self,level,data):\n",
    "        self.Blist[level].updateData(data)\n",
    "    \n",
    "    def CollapsePyramid(self):\n",
    "        for i in range(self.depth,0,-1):\n",
    "            self.updateL(i-1,Expand(self.getL(i))+self.getB(i))\n",
    "        return Expand(self.getL(0))+self.getB(0)\n",
    "        \n",
    "def MatchHistogram(Noise,Sample):\n",
    "    M=len(Noise)\n",
    "    N=len(Noise[0])\n",
    "    BaseImRavel=np.copy(Sample).ravel()\n",
    "    NoiseImRavel=np.copy(Noise).ravel()\n",
    "    BaseSorted=np.argsort(BaseImRavel)\n",
    "    NoiseSorted=np.argsort(NoiseImRavel)\n",
    "    for i in range(M*N):\n",
    "        NoiseImRavel[NoiseSorted[i]]=BaseImRavel[BaseSorted[i]]\n",
    "    return np.reshape(NoiseImRavel,[M,N])\n",
    "\n",
    "def MatchTexture(texture,depth=2,loop=5):\n",
    "    Cropped=Crop(texture)\n",
    "    noise=np.random.randint(255, size=(len(Cropped), len(Cropped)))\n",
    "    noise=MatchHistogram(noise,Cropped)\n",
    "    PyrText=Pyramid(Cropped)\n",
    "    PyrText.makePyramid(depth)\n",
    "    for i in range(loop):\n",
    "        PyrNoise=Pyramid(noise)\n",
    "        PyrNoise.makePyramid(depth)\n",
    "        for j in range(depth):\n",
    "            PyrNoise.updateB(j,MatchHistogram(PyrNoise.getB(j),PyrText.getB(j)))\n",
    "#             plt.imshow(PyrNoise.getB(j))\n",
    "#             plt.show()\n",
    "        noise=np.array(np.round(PyrNoise.CollapsePyramid()),dtype=np.int)\n",
    "    noise=MatchHistogram(noise,Cropped)\n",
    "    return noise"
   ]
  },
  {
   "cell_type": "code",
   "execution_count": 6,
   "metadata": {
    "scrolled": false
   },
   "outputs": [
    {
     "data": {
      "image/png": "[encoded data removed]",
      "text/plain": [
       "<matplotlib.figure.Figure at 0x9708978>"
      ]
     },
     "metadata": {},
     "output_type": "display_data"
    },
    {
     "data": {
      "image/png": "[encoded data removed]",
      "text/plain": [
       "<matplotlib.figure.Figure at 0x9a6c550>"
      ]
     },
     "metadata": {},
     "output_type": "display_data"
    }
   ],
   "source": [
    "img=rgb2gray(np.array(mpimg.imread('../../161.gif'))[:,:,:3])\n",
    "plt.imshow(img,cmap='gray',vmin=0,vmax=255)\n",
    "plt.axis('off')\n",
    "plt.show()\n",
    "noise=MatchTexture(img,5,4)\n",
    "plt.imshow(noise,cmap='gray',vmin=0,vmax=255)\n",
    "plt.axis('off')\n",
    "plt.show()"
   ]
  },
  {
   "cell_type": "code",
   "execution_count": null,
   "metadata": {
    "collapsed": true
   },
   "outputs": [],
   "source": []
  }
 ],
 "metadata": {
  "kernelspec": {
   "display_name": "Python 2",
   "language": "python",
   "name": "python2"
  },
  "language_info": {
   "codemirror_mode": {
    "name": "ipython",
    "version": 2
   },
   "file_extension": ".py",
   "mimetype": "text/x-python",
   "name": "python",
   "nbconvert_exporter": "python",
   "pygments_lexer": "ipython2",
   "version": "2.7.13"
  }
 },
 "nbformat": 4,
 "nbformat_minor": 2
}
